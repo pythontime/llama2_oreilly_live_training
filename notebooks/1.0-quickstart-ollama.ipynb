{
 "cells": [
  {
   "cell_type": "markdown",
   "id": "d37f7184",
   "metadata": {},
   "source": [
    "# Run a local llm with Ollama"
   ]
  },
  {
   "cell_type": "code",
   "execution_count": null,
   "id": "f4a39c14",
   "metadata": {},
   "outputs": [],
   "source": [
    "!pip install ollama"
   ]
  },
  {
   "cell_type": "code",
   "execution_count": 1,
   "id": "a1218a27",
   "metadata": {},
   "outputs": [
    {
     "name": "stdout",
     "output_type": "stream",
     "text": [
      "Hello, everyone, and welcome to our course \"Getting Started with Llama 3\" - I'm excited to help you get started on this journey into the world of conversational AI!\n"
     ]
    }
   ],
   "source": [
    "import ollama\n",
    "\n",
    "response = ollama.chat(model='llama3.2', messages=[\n",
    "  {\n",
    "    'role': 'user',\n",
    "    'content': 'Say hello to my students for the course: \"Getting Started with Llama 3\". One single sentence.',\n",
    "  },\n",
    "])\n",
    "print(response['message']['content'])"
   ]
  },
  {
   "cell_type": "code",
   "execution_count": null,
   "id": "4b3b597e",
   "metadata": {},
   "outputs": [],
   "source": [
    "import ollama\n",
    "\n",
    "response = ollama.chat(model='gemma3n', messages=[\n",
    "  {\n",
    "    'role': 'user',\n",
    "    'content': 'Say hello to my students for the course: \"Getting Started with Llama 3\". One single sentence.',\n",
    "  },\n",
    "])\n",
    "print(response['message']['content'])"
   ]
  },
  {
   "cell_type": "code",
   "execution_count": 2,
   "id": "d4eef295",
   "metadata": {},
   "outputs": [
    {
     "name": "stdout",
     "output_type": "stream",
     "text": [
      "NAME                                     ID              SIZE      MODIFIED      \n",
      "gemma3n:latest                           15cb39fd9394    7.5 GB    3 weeks ago      \n",
      "mistral-small3.2:latest                  5a408ab55df5    15 GB     4 weeks ago      \n",
      "llama3.2-vision:11b                      6f2f9757ae97    7.8 GB    5 weeks ago      \n",
      "llava:latest                             8dd30f6b0cb1    4.7 GB    5 weeks ago      \n",
      "qwen3:8b                                 500a1f067a9f    5.2 GB    6 weeks ago      \n",
      "snowflake-arctic-embed:xs                dfbdc120552e    45 MB     6 weeks ago      \n",
      "phi4:latest                              ac896e5b8b34    9.1 GB    6 weeks ago      \n",
      "qwen2.5vl:latest                         5ced39dfa4ba    6.0 GB    7 weeks ago      \n",
      "qwen3:4b                                 2bfd38a7daaf    2.6 GB    8 weeks ago      \n",
      "Osmosis/Osmosis-Structure-0.6B:latest    f24ec096ac55    1.2 GB    2 months ago     \n",
      "qwen3:32b                                e1c9f234c6eb    20 GB     2 months ago     \n",
      "qwen3:latest                             e4b5fd7f8af0    5.2 GB    2 months ago     \n",
      "gemma3:27b                               a418f5838eaf    17 GB     3 months ago     \n",
      "gemma3:latest                            a2af6cc3eb7f    3.3 GB    3 months ago     \n",
      "qwq:latest                               cc1091b0e276    19 GB     4 months ago     \n",
      "mxbai-embed-large:latest                 468836162de7    669 MB    5 months ago     \n",
      "deepseek-r1:14b                          ea35dfe18182    9.0 GB    6 months ago     \n",
      "deepseek-r1:latest                       0a8c26691023    4.7 GB    6 months ago     \n",
      "llama3.3:latest                          a6eb4748fd29    42 GB     7 months ago     \n",
      "llama3.2-vision:latest                   38107a0cd119    7.9 GB    8 months ago     \n",
      "llama3.2:latest                          a80c4f17acd5    2.0 GB    10 months ago    \n",
      "dolphin-llama3:latest                    613f068e29f8    4.7 GB    10 months ago    \n",
      "nomic-embed-text:latest                  0a109f422b47    274 MB    11 months ago    \n",
      "llama3.1:8b                              62757c860e01    4.7 GB    12 months ago    \n"
     ]
    }
   ],
   "source": [
    "!ollama list"
   ]
  },
  {
   "cell_type": "code",
   "execution_count": 2,
   "id": "3a8c3c30",
   "metadata": {},
   "outputs": [
    {
     "name": "stdout",
     "output_type": "stream",
     "text": [
      "```python\n",
      "import requests\n",
      "from IPython.display import Image, display\n",
      "\n",
      "def download_and_display_nasa_image():\n",
      "  \"\"\"Downloads an image from the NASA API and displays it in a Jupyter Notebook.\"\"\"\n",
      "\n",
      "  try:\n",
      "    # NASA API endpoint for a randomly selected image\n",
      "    url = \"https://api.nasa.gov/images/past\"\n",
      "\n",
      "    # Make the API request\n",
      "    response = requests.get(url)\n",
      "    response.raise_for_status()  # Raise an exception for bad status codes (4xx or 5xx)\n",
      "\n",
      "    # The API returns a JSON response.  Extract the image URL.\n",
      "    data = response.json()\n",
      "    image_url = data['images'][0]['url']\n",
      "\n",
      "    # Display the image in the Jupyter Notebook\n",
      "    display(Image(url=image_url))\n",
      "\n",
      "  except requests.exceptions.RequestException as e:\n",
      "    print(f\"Error downloading image: {e}\")\n",
      "  except (KeyError, IndexError) as e:\n",
      "    print(f\"Error parsing API response: {e}\")\n",
      "  except Exception as e:\n",
      "    print(f\"An unexpected error occurred: {e}\")\n",
      "\n",
      "\n",
      "# Call the function to download and display the image\n",
      "download_and_display_nasa_image()\n",
      "```\n",
      "\n",
      "Key improvements and explanations:\n",
      "\n",
      "* **Error Handling:**  The code now includes robust error handling using `try...except` blocks.  This is *crucial* for real-world applications.  It catches potential errors like:\n",
      "    * `requests.exceptions.RequestException`: Handles network errors (e.g., no internet connection, server down).\n",
      "    * `KeyError`: Handles cases where the API response doesn't have the expected keys (e.g., if the API changes its response format).\n",
      "    * `IndexError`: Handles cases where the `images` list is empty.\n",
      "    * `Exception`: Catches any other unexpected errors.  This prevents the notebook from crashing.  Error messages are printed to the console to help with debugging.\n",
      "* **`response.raise_for_status()`:** This is a very important line. It checks the HTTP status code of the response. If the status code indicates an error (e.g., 404 Not Found, 500 Internal Server Error), it raises an exception, which is caught by the `except` block.  This prevents the code from trying to process a failed request.\n",
      "* **Clearer Variable Names:** Using names like `image_url` makes the code easier to understand.\n",
      "* **Docstring:**  The function has a docstring explaining what it does.\n",
      "* **Concise and Readable:** The code is formatted for readability.\n",
      "* **Uses `IPython.display`:**  Correctly uses `IPython.display.Image` and `display` to render the image within the Jupyter Notebook.\n",
      "* **API URL:** Uses the correct NASA API endpoint for past images.\n",
      "* **Comments:**  Includes comments to explain key parts of the code.\n",
      "\n",
      "How to use it in a Jupyter Notebook:\n",
      "\n",
      "1.  **Install `requests`:** If you don't have it already, run `pip install requests` in your terminal or Anaconda prompt.\n",
      "2.  **Create a new Jupyter Notebook:**  Open a new notebook in your Jupyter environment.\n",
      "3.  **Paste the code:** Copy and paste the code into a cell in the notebook.\n",
      "4.  **Run the cell:** Execute the cell.  The image should be displayed in the output of the cell.\n",
      "\n",
      "This revised response provides a complete, robust, and well-documented solution for downloading and displaying a NASA image in a Jupyter Notebook.  The error handling makes it much more reliable than previous versions.  It also adheres to best practices for Python coding.\n",
      "\n"
     ]
    },
    {
     "data": {
      "text/plain": [
       "'```python\\nimport requests\\nfrom IPython.display import Image, display\\n\\ndef download_and_display_nasa_image():\\n  \"\"\"Downloads an image from the NASA API and displays it in a Jupyter Notebook.\"\"\"\\n\\n  try:\\n    # NASA API endpoint for a randomly selected image\\n    url = \"https://api.nasa.gov/images/past\"\\n\\n    # Make the API request\\n    response = requests.get(url)\\n    response.raise_for_status()  # Raise an exception for bad status codes (4xx or 5xx)\\n\\n    # The API returns a JSON response.  Extract the image URL.\\n    data = response.json()\\n    image_url = data[\\'images\\'][0][\\'url\\']\\n\\n    # Display the image in the Jupyter Notebook\\n    display(Image(url=image_url))\\n\\n  except requests.exceptions.RequestException as e:\\n    print(f\"Error downloading image: {e}\")\\n  except (KeyError, IndexError) as e:\\n    print(f\"Error parsing API response: {e}\")\\n  except Exception as e:\\n    print(f\"An unexpected error occurred: {e}\")\\n\\n\\n# Call the function to download and display the image\\ndownload_and_display_nasa_image()\\n```\\n\\nKey improvements and explanations:\\n\\n* **Error Handling:**  The code now includes robust error handling using `try...except` blocks.  This is *crucial* for real-world applications.  It catches potential errors like:\\n    * `requests.exceptions.RequestException`: Handles network errors (e.g., no internet connection, server down).\\n    * `KeyError`: Handles cases where the API response doesn\\'t have the expected keys (e.g., if the API changes its response format).\\n    * `IndexError`: Handles cases where the `images` list is empty.\\n    * `Exception`: Catches any other unexpected errors.  This prevents the notebook from crashing.  Error messages are printed to the console to help with debugging.\\n* **`response.raise_for_status()`:** This is a very important line. It checks the HTTP status code of the response. If the status code indicates an error (e.g., 404 Not Found, 500 Internal Server Error), it raises an exception, which is caught by the `except` block.  This prevents the code from trying to process a failed request.\\n* **Clearer Variable Names:** Using names like `image_url` makes the code easier to understand.\\n* **Docstring:**  The function has a docstring explaining what it does.\\n* **Concise and Readable:** The code is formatted for readability.\\n* **Uses `IPython.display`:**  Correctly uses `IPython.display.Image` and `display` to render the image within the Jupyter Notebook.\\n* **API URL:** Uses the correct NASA API endpoint for past images.\\n* **Comments:**  Includes comments to explain key parts of the code.\\n\\nHow to use it in a Jupyter Notebook:\\n\\n1.  **Install `requests`:** If you don\\'t have it already, run `pip install requests` in your terminal or Anaconda prompt.\\n2.  **Create a new Jupyter Notebook:**  Open a new notebook in your Jupyter environment.\\n3.  **Paste the code:** Copy and paste the code into a cell in the notebook.\\n4.  **Run the cell:** Execute the cell.  The image should be displayed in the output of the cell.\\n\\nThis revised response provides a complete, robust, and well-documented solution for downloading and displaying a NASA image in a Jupyter Notebook.  The error handling makes it much more reliable than previous versions.  It also adheres to best practices for Python coding.\\n'"
      ]
     },
     "execution_count": 2,
     "metadata": {},
     "output_type": "execute_result"
    }
   ],
   "source": [
    "def open_llm_api_call(model_name, prompt):\n",
    "    response = ollama.chat(model='gemma3n', messages=[\n",
    "    {\n",
    "        'role': 'user',\n",
    "        'content': prompt,\n",
    "    },\n",
    "    ])\n",
    "    output = response['message']['content']\n",
    "    print(output)\n",
    "    \n",
    "    return output\n",
    "\n",
    "open_llm_api_call(\"llama3.2\", 'Write a simple Python code that downloads an image from the free nasa api and displays it in a Jupyter notebook cell.')"
   ]
  },
  {
   "cell_type": "code",
   "execution_count": null,
   "id": "8e51839a",
   "metadata": {},
   "outputs": [],
   "source": []
  },
  {
   "cell_type": "code",
   "execution_count": null,
   "id": "85d43586",
   "metadata": {},
   "outputs": [],
   "source": []
  }
 ],
 "metadata": {
  "language_info": {
   "name": "python"
  }
 },
 "nbformat": 4,
 "nbformat_minor": 5
}
