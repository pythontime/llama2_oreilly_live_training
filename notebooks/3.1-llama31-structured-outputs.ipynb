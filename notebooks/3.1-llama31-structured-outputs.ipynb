{
 "cells": [
  {
   "cell_type": "markdown",
   "metadata": {},
   "source": [
    "# Getting Structured Outputs from Llama3 using Ollama "
   ]
  },
  {
   "cell_type": "code",
   "execution_count": null,
   "metadata": {},
   "outputs": [],
   "source": [
    "!pip install -U ollama pydantic"
   ]
  },
  {
   "cell_type": "code",
   "execution_count": 1,
   "metadata": {},
   "outputs": [
    {
     "data": {
      "text/plain": [
       "Task(title='Implement Time Tracking Feature for Tasks', description='As a project management software, we need to allow users to track the time they spend on individual tasks. This feature will help with better time management, reporting, and billing.', priority='High', estimated_hours=40.0, dependencies=[], status='Not Started', assigned_to=None)"
      ]
     },
     "execution_count": 1,
     "metadata": {},
     "output_type": "execute_result"
    }
   ],
   "source": [
    "from ollama import chat\n",
    "from pydantic import BaseModel\n",
    "from typing import Optional, List\n",
    "\n",
    "class Task(BaseModel):\n",
    "    title: str\n",
    "    description: str\n",
    "    priority: str  # \"High\", \"Medium\", \"Low\"\n",
    "    estimated_hours: float\n",
    "    dependencies: List[str] = []\n",
    "    status: str = \"Not Started\"  # \"Not Started\", \"In Progress\", \"Completed\"\n",
    "    assigned_to: Optional[str] = None\n",
    "\n",
    "response = chat(\n",
    "    messages=[\n",
    "        {\n",
    "            'role': 'user',\n",
    "            'content': 'Create a task for implementing a new feature in our project management software that allows users to track time spent on tasks. \\\n",
    "            Include dependencies and make it realistic.',\n",
    "        }\n",
    "    ],\n",
    "    model='mistral-small3.2',\n",
    "    format=Task.model_json_schema(),\n",
    ")\n",
    "\n",
    "task = Task.model_validate_json(response['message']['content'])\n",
    "task"
   ]
  },
  {
   "cell_type": "code",
   "execution_count": 2,
   "metadata": {},
   "outputs": [
    {
     "name": "stdout",
     "output_type": "stream",
     "text": [
      "Task: Implement Time Tracking Feature for Tasks\n",
      "Priority: High\n",
      "Estimated Hours: 40.0\n",
      "Dependencies: \n",
      "Status: Not Started\n"
     ]
    }
   ],
   "source": [
    "print(f\"Task: {task.title}\")\n",
    "print(f\"Priority: {task.priority}\")\n",
    "print(f\"Estimated Hours: {task.estimated_hours}\")\n",
    "print(f\"Dependencies: {', '.join(task.dependencies)}\")\n",
    "print(f\"Status: {task.status}\")"
   ]
  },
  {
   "cell_type": "code",
   "execution_count": 3,
   "metadata": {},
   "outputs": [
    {
     "data": {
      "text/plain": [
       "{'model': 'mistral-small3.2',\n",
       " 'created_at': '2025-07-30T15:53:05.084035Z',\n",
       " 'message': {'role': 'assistant',\n",
       "  'content': '{ \"email_destination\": \"boss_of_lucas@gmail.com\", \"email_contents\": \"Subject: Resignation Notice - Pursuing a New Passion\\\\n\\\\nDear [Boss\\'s Name],\\\\n\\\\nI hope this email finds you well. I am writing to formally resign from my position at [Company Name], effective [last working day, typically two weeks from the date of the email].\\\\n\\\\nThis decision was not made lightly, but I have decided to pursue a long-held passion of mine: bird watching. I have always found great joy and fulfillment in observing and learning about birds, and I am excited to dedicate more time to this hobby and potentially turn it into a new career path.\\\\n\\\\nI am grateful for the opportunities and experiences I have had during my time here. I have learned a great deal and have truly appreciated working with such a talented and supportive team. Please know that I am committed to making the transition as smooth as possible. I am more than willing to assist in training a replacement or documenting my responsibilities to ensure a seamless handover.\\\\n\\\\nThank you again for the opportunity to be a part of [Company Name]. I look forward to staying in touch, and I wish the company continued success.\\\\n\\\\nBest regards,\\\\nLucas\" }'},\n",
       " 'done_reason': 'stop',\n",
       " 'done': True,\n",
       " 'total_duration': 12820769375,\n",
       " 'load_duration': 48822833,\n",
       " 'prompt_eval_count': 533,\n",
       " 'prompt_eval_duration': 577314833,\n",
       " 'eval_count': 262,\n",
       " 'eval_duration': 12146700875}"
      ]
     },
     "execution_count": 3,
     "metadata": {},
     "output_type": "execute_result"
    }
   ],
   "source": [
    "class EmailToolInput(BaseModel):\n",
    "    email_destination: str\n",
    "    email_contents: str\n",
    "\n",
    "\n",
    "prompt = \"\"\"\n",
    "Write an email to my boss: boss_of_lucas@gmail.com, telling him that I quit to pursue bird watching.\n",
    "\"\"\"\n",
    "\n",
    "email_reply_input = chat(\n",
    "    model='mistral-small3.2',\n",
    "    messages=[\n",
    "        {\n",
    "            'role': 'user',\n",
    "            'content': prompt,\n",
    "        }\n",
    "    ],\n",
    "    format=EmailToolInput.model_json_schema(),\n",
    ")\n",
    "\n",
    "email_reply_input"
   ]
  },
  {
   "cell_type": "code",
   "execution_count": 5,
   "metadata": {},
   "outputs": [
    {
     "name": "stdout",
     "output_type": "stream",
     "text": [
      "boss_of_lucas@gmail.com\n",
      "Subject: Resignation Notice - Pursuing a New Passion\n",
      "\n",
      "Dear [Boss's Name],\n",
      "\n",
      "I hope this email finds you well. I am writing to formally resign from my position at [Company Name], effective [last working day, typically two weeks from the date of the email].\n",
      "\n",
      "This decision was not made lightly, but I have decided to pursue a long-held passion of mine: bird watching. I have always found great joy and fulfillment in observing and learning about birds, and I am excited to dedicate more time to this hobby and potentially turn it into a new career path.\n",
      "\n",
      "I am grateful for the opportunities and experiences I have had during my time here. I have learned a great deal and have truly appreciated working with such a talented and supportive team. Please know that I am committed to making the transition as smooth as possible. I am more than willing to assist in training a replacement or documenting my responsibilities to ensure a seamless handover.\n",
      "\n",
      "Thank you again for the opportunity to be a part of [Company Name]. I look forward to staying in touch, and I wish the company continued success.\n",
      "\n",
      "Best regards,\n",
      "Lucas\n"
     ]
    }
   ],
   "source": [
    "email_reply_input_json = EmailToolInput.model_validate_json(email_reply_input['message']['content'])\n",
    "print(email_reply_input_json.email_destination)\n",
    "\n",
    "print(email_reply_input_json.email_contents)"
   ]
  },
  {
   "cell_type": "code",
   "execution_count": 6,
   "metadata": {},
   "outputs": [
    {
     "name": "stdout",
     "output_type": "stream",
     "text": [
      "Pretending I am sending an email\n",
      "Sending email to boss_of_lucas@gmail.com with contents: Subject: Resignation Notice - Pursuing a New Passion\n",
      "\n",
      "Dear [Boss's Name],\n",
      "\n",
      "I hope this email finds you well. I am writing to formally resign from my position at [Company Name], effective [last working day, typically two weeks from the date of the email].\n",
      "\n",
      "This decision was not made lightly, but I have decided to pursue a long-held passion of mine: bird watching. I have always found great joy and fulfillment in observing and learning about birds, and I am excited to dedicate more time to this hobby and potentially turn it into a new career path.\n",
      "\n",
      "I am grateful for the opportunities and experiences I have had during my time here. I have learned a great deal and have truly appreciated working with such a talented and supportive team. Please know that I am committed to making the transition as smooth as possible. I am more than willing to assist in training a replacement or documenting my responsibilities to ensure a seamless handover.\n",
      "\n",
      "Thank you again for the opportunity to be a part of [Company Name]. I look forward to staying in touch, and I wish the company continued success.\n",
      "\n",
      "Best regards,\n",
      "Lucas\n"
     ]
    }
   ],
   "source": [
    "def send_email(email_destination: str, email_contents: str):\n",
    "    print(\"Pretending I am sending an email\")\n",
    "    print(f\"Sending email to {email_destination} with contents: {email_contents}\")\n",
    "\n",
    "send_email(email_reply_input_json.email_destination, email_reply_input_json.email_contents)"
   ]
  },
  {
   "cell_type": "code",
   "execution_count": null,
   "metadata": {},
   "outputs": [],
   "source": []
  },
  {
   "cell_type": "code",
   "execution_count": null,
   "metadata": {},
   "outputs": [],
   "source": []
  },
  {
   "cell_type": "code",
   "execution_count": null,
   "metadata": {},
   "outputs": [],
   "source": []
  },
  {
   "cell_type": "markdown",
   "metadata": {},
   "source": [
    "We can turn this structured output functionality into a function calling pipeline."
   ]
  }
 ],
 "metadata": {
  "kernelspec": {
   "display_name": "oreilly-llama3",
   "language": "python",
   "name": "oreilly-llama3"
  },
  "language_info": {
   "codemirror_mode": {
    "name": "ipython",
    "version": 3
   },
   "file_extension": ".py",
   "mimetype": "text/x-python",
   "name": "python",
   "nbconvert_exporter": "python",
   "pygments_lexer": "ipython3",
   "version": "3.10.14"
  }
 },
 "nbformat": 4,
 "nbformat_minor": 2
}
