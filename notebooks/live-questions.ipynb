{
 "cells": [
  {
   "cell_type": "markdown",
   "id": "ef2f7dc4",
   "metadata": {},
   "source": [
    "# RG\n",
    "Basic question maybe a silly one - how's machine learning, these AI models and actual artificial intelligence different?\n",
    "\n",
    "AI is a field that comprises the research in producing algorithms that can learn by themselves\n",
    "\n",
    "Machine Learning is just a subfield of AI concerned with the same thing but it included algorithms that can learn through a variety of different ways\n",
    "\n",
    "Deep Learning as algorithms that can learn by themselves using neural networks with backpropagation."
   ]
  },
  {
   "cell_type": "markdown",
   "id": "6a270f75",
   "metadata": {},
   "source": [
    "# U1\n",
    "Will these local models be trained while chatting with them in local machine?\n",
    "\n",
    "When these models are trained, we create a dataset of example inputs and outputs that they train to learn how to mimic and reproduce,\n",
    "they are not trained when you chat with them."
   ]
  },
  {
   "cell_type": "markdown",
   "id": "0eed63af",
   "metadata": {},
   "source": []
  }
 ],
 "metadata": {
  "language_info": {
   "name": "python"
  }
 },
 "nbformat": 4,
 "nbformat_minor": 5
}
